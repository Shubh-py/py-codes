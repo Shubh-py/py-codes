{
 "cells": [
  {
   "cell_type": "code",
   "execution_count": 2,
   "id": "e85b9394",
   "metadata": {},
   "outputs": [],
   "source": [
    "def summ(a,b):\n",
    "    return a+b"
   ]
  },
  {
   "cell_type": "code",
   "execution_count": 3,
   "id": "bcf75ce5",
   "metadata": {},
   "outputs": [
    {
     "name": "stdout",
     "output_type": "stream",
     "text": [
      "All cases are fine\n"
     ]
    }
   ],
   "source": [
    "from unittest import TestCase\n",
    "class SolutionTest(TestCase):\n",
    "    def test(self, sol):\n",
    "        self.assertEqual(sol(3,4),7)\n",
    "        self.assertEqual(sol(5,5),10)\n",
    "        print('All cases are fine')\n",
    "# run test\n",
    "f = SolutionTest()\n",
    "f.test(summ)"
   ]
  },
  {
   "cell_type": "code",
   "execution_count": 9,
   "id": "11416631",
   "metadata": {},
   "outputs": [],
   "source": [
    "import pandas as pd\n",
    "import numpy as np\n"
   ]
  },
  {
   "cell_type": "code",
   "execution_count": 10,
   "id": "984b8d54-54bd-4bed-97eb-1312229b449e",
   "metadata": {},
   "outputs": [
    {
     "name": "stdout",
     "output_type": "stream",
     "text": [
      "      Name  Age         City Occupation\n",
      "0     Mike   34   New Jersey        SDE\n",
      "1  Charlie   30          NYC        Dev\n",
      "2    Tyson   32   Washington    Manager\n",
      "3     Jack   36  Los angeles  Architect\n",
      "4    Rahul   33      Colardo    Sr. Dev\n"
     ]
    }
   ],
   "source": [
    "df = pd.read_csv('test_pd.csv')\n",
    "print(df.head())"
   ]
  },
  {
   "cell_type": "code",
   "execution_count": 11,
   "id": "3359cf56-ca7d-4955-939b-7035f1784074",
   "metadata": {},
   "outputs": [
    {
     "name": "stdout",
     "output_type": "stream",
     "text": [
      "<class 'pandas.core.frame.DataFrame'>\n"
     ]
    }
   ],
   "source": [
    "print(type(df))"
   ]
  },
  {
   "cell_type": "code",
   "execution_count": 8,
   "id": "369fb718",
   "metadata": {},
   "outputs": [
    {
     "data": {
      "text/plain": [
       "[1, 2, 3, 4, 5, 6, 9]"
      ]
     },
     "execution_count": 8,
     "metadata": {},
     "output_type": "execute_result"
    }
   ],
   "source": [
    "def sort(arr):\n",
    "    n = len(arr)\n",
    "    for i in range(n):\n",
    "        for j in range(n-i-1):\n",
    "            if arr[j]> arr[j+1]:\n",
    "                arr[j],arr[j+1] = arr[j+1],arr[j]\n",
    "    return arr\n",
    "\n",
    "sort([5,1,3,6,4,2,9])"
   ]
  }
 ],
 "metadata": {
  "kernelspec": {
   "display_name": "Python 3 (ipykernel)",
   "language": "python",
   "name": "python3"
  },
  "language_info": {
   "codemirror_mode": {
    "name": "ipython",
    "version": 3
   },
   "file_extension": ".py",
   "mimetype": "text/x-python",
   "name": "python",
   "nbconvert_exporter": "python",
   "pygments_lexer": "ipython3",
   "version": "3.12.1"
  }
 },
 "nbformat": 4,
 "nbformat_minor": 5
}
