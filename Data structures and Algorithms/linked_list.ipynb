{
 "cells": [
  {
   "cell_type": "markdown",
   "metadata": {},
   "source": [
    "# Linked List"
   ]
  },
  {
   "cell_type": "markdown",
   "metadata": {},
   "source": [
    "**Linked List:**\n",
    "A linked list is a fundamental data structure in computer science that consists of nodes where each node contains data and a reference (link) to the next node in the sequence. This allows for dynamic memory allocation and efficient insertion and deletion operations compared to arrays"
   ]
  },
  {
   "cell_type": "markdown",
   "metadata": {},
   "source": [
    "**Types of linked list:-**\n",
    "There are four main types of linked lists:\n",
    "\n",
    "1. **Singly Linked List**: Each node contains a data element and a pointer to the next node. This type of linked list allows traversal in one direction, from the head to the tail, and is used for implementing stacks and queues.\n",
    "\n",
    "2. **Doubly Linked List**: Each node contains a data element and two pointers, one to the previous node and one to the next node. This type of linked list allows traversal in both directions and is used for applications where data needs to be accessed from both ends.\n",
    "\n",
    "3. **Circular Linked List**: The last node points back to the first node, forming a loop. This type of linked list is useful in situations where a list needs to be continuously traversed, such as in a queue or circular buffer.\n",
    "\n",
    "4. **Doubly Circular Linked List**: This type combines the features of doubly linked lists and circular linked lists, allowing traversal in both directions and continuous traversal.\n",
    "\n",
    "Each type of linked list has its unique characteristics and is used for specific applications, making them essential data structures in computer science."
   ]
  },
  {
   "cell_type": "markdown",
   "metadata": {},
   "source": [
    "To create a singly linked list node in Python, you can define a class that represents the node structure. Here is a concise guide based on the provided sources:\n",
    "Define the Node Class:\n",
    "Create a class named Node that contains two attributes: data to hold the value of the node and next to point to the next node in the linked list.\n",
    "Initialize these attributes in the constructor __init__ method.\n",
    "Here is an example implementation:"
   ]
  },
  {
   "cell_type": "code",
   "execution_count": 1,
   "metadata": {},
   "outputs": [],
   "source": [
    "class Node:\n",
    "    def __init__(self, data):\n",
    "        self.data = data\n",
    "        self.next = None"
   ]
  },
  {
   "cell_type": "markdown",
   "metadata": {},
   "source": [
    "Creating a Singly Linked List:\n",
    "To create a singly linked list, you can use this Node class to represent each node in the list.\n",
    "Each node will hold a value and a reference to the next node.\n",
    "You can then link these nodes together to form a linked list.\n"
   ]
  },
  {
   "cell_type": "markdown",
   "metadata": {},
   "source": [
    "Traversing the Linked List:\n",
    "Implement a method in the linked list class to traverse through the nodes of the linked list.\n",
    "This method will iterate through the nodes, starting from the head node, and print or process each node's data.\n",
    "An example method to traverse the linked list:"
   ]
  },
  {
   "cell_type": "code",
   "execution_count": 2,
   "metadata": {},
   "outputs": [],
   "source": [
    "def traverse_list(self):\n",
    "    current_node = self.head\n",
    "    while current_node:\n",
    "        print(current_node.data)\n",
    "        current_node = current_node.next"
   ]
  },
  {
   "cell_type": "markdown",
   "metadata": {},
   "source": [
    "By following these steps, you can create a singly linked list node in Python and build a linked list structure. This approach aligns with the principles of linked lists where each node holds data and a reference to the next node."
   ]
  },
  {
   "cell_type": "markdown",
   "metadata": {},
   "source": [
    "Unlike the array, we are not able to access a random element in a singly-linked list in constant time. If we want to get the ith element, we have to traverse from the head node one by one. It takes us **O(N)** time on average to **visit an element by index**, where *N* is the length of the linked list."
   ]
  },
  {
   "cell_type": "markdown",
   "metadata": {},
   "source": [
    "We might wonder why the linked list is useful though, it has such a bad performance (compared to the array) in accessing data by index. The **insert and delete** operations  will make us realize the benefit of the linked list."
   ]
  },
  {
   "cell_type": "markdown",
   "metadata": {},
   "source": [
    "#### Add Operation - Singly Linked List"
   ]
  },
  {
   "cell_type": "markdown",
   "metadata": {},
   "source": [
    "If we want to add a new value after a given node prev, we should: \n",
    "\n",
    "Initialize a new node cur with the given value;\n",
    "Link the \"next\" field of cur to prev's next node next;\n",
    "Link the \"next\" field in prev to cur.\n",
    "Unlike an array, we don’t need to move all elements past the inserted element. Therefore, you can insert a new node into a linked list in O(1) time complexity if you have a reference to prev, which is very efficient."
   ]
  },
  {
   "cell_type": "markdown",
   "metadata": {},
   "source": [
    "[![App Platorm](https://s3-lc-upload.s3.amazonaws.com/uploads/2018/04/26/screen-shot-2018-04-25-at-163224.png)](https://leetcode.com/explore/learn/card/linked-list/209/singly-linked-list/1288/)"
   ]
  }
 ],
 "metadata": {
  "kernelspec": {
   "display_name": "Python 3",
   "language": "python",
   "name": "python3"
  },
  "language_info": {
   "codemirror_mode": {
    "name": "ipython",
    "version": 3
   },
   "file_extension": ".py",
   "mimetype": "text/x-python",
   "name": "python",
   "nbconvert_exporter": "python",
   "pygments_lexer": "ipython3",
   "version": "3.12.1"
  }
 },
 "nbformat": 4,
 "nbformat_minor": 2
}
